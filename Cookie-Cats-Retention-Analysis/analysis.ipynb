{
 "cells": [
  {
   "cell_type": "code",
   "execution_count": 73,
   "id": "1f238d59",
   "metadata": {},
   "outputs": [],
   "source": [
    "# Import core libraries for data manipulation, visualization, and modeling\n",
    "import numpy as np\n",
    "import pandas as pd\n",
    "import matplotlib.pyplot as plt\n",
    "import seaborn as sns\n",
    "import warnings\n",
    "\n",
    "from sklearn.model_selection import train_test_split, GridSearchCV\n",
    "from sklearn.preprocessing import StandardScaler\n",
    "from sklearn.impute import SimpleImputer\n",
    "from sklearn.pipeline import Pipeline\n",
    "from sklearn.linear_model import LogisticRegression\n",
    "from sklearn.ensemble import RandomForestClassifier\n",
    "from xgboost import XGBClassifier\n",
    "from sklearn.metrics import RocCurveDisplay, PrecisionRecallDisplay\n",
    "from scipy.stats import chi2_contingency\n",
    "\n",
    "\n",
    "\n",
    "import shap\n",
    "\n",
    "warnings.filterwarnings('ignore')\n",
    "sns.set_style(\"whitegrid\")\n",
    "np.random.seed(42)\n"
   ]
  },
  {
   "cell_type": "code",
   "execution_count": 74,
   "id": "684f7266",
   "metadata": {},
   "outputs": [
    {
     "name": "stdout",
     "output_type": "stream",
     "text": [
      "Data shape: (90189, 5)\n"
     ]
    },
    {
     "data": {
      "text/html": [
       "<div>\n",
       "<style scoped>\n",
       "    .dataframe tbody tr th:only-of-type {\n",
       "        vertical-align: middle;\n",
       "    }\n",
       "\n",
       "    .dataframe tbody tr th {\n",
       "        vertical-align: top;\n",
       "    }\n",
       "\n",
       "    .dataframe thead th {\n",
       "        text-align: right;\n",
       "    }\n",
       "</style>\n",
       "<table border=\"1\" class=\"dataframe\">\n",
       "  <thead>\n",
       "    <tr style=\"text-align: right;\">\n",
       "      <th></th>\n",
       "      <th>userid</th>\n",
       "      <th>version</th>\n",
       "      <th>sum_gamerounds</th>\n",
       "      <th>retention_1</th>\n",
       "      <th>retention_7</th>\n",
       "    </tr>\n",
       "  </thead>\n",
       "  <tbody>\n",
       "    <tr>\n",
       "      <th>0</th>\n",
       "      <td>116</td>\n",
       "      <td>gate_30</td>\n",
       "      <td>3</td>\n",
       "      <td>False</td>\n",
       "      <td>False</td>\n",
       "    </tr>\n",
       "    <tr>\n",
       "      <th>1</th>\n",
       "      <td>337</td>\n",
       "      <td>gate_30</td>\n",
       "      <td>38</td>\n",
       "      <td>True</td>\n",
       "      <td>False</td>\n",
       "    </tr>\n",
       "    <tr>\n",
       "      <th>2</th>\n",
       "      <td>377</td>\n",
       "      <td>gate_40</td>\n",
       "      <td>165</td>\n",
       "      <td>True</td>\n",
       "      <td>False</td>\n",
       "    </tr>\n",
       "    <tr>\n",
       "      <th>3</th>\n",
       "      <td>483</td>\n",
       "      <td>gate_40</td>\n",
       "      <td>1</td>\n",
       "      <td>False</td>\n",
       "      <td>False</td>\n",
       "    </tr>\n",
       "    <tr>\n",
       "      <th>4</th>\n",
       "      <td>488</td>\n",
       "      <td>gate_40</td>\n",
       "      <td>179</td>\n",
       "      <td>True</td>\n",
       "      <td>True</td>\n",
       "    </tr>\n",
       "  </tbody>\n",
       "</table>\n",
       "</div>"
      ],
      "text/plain": [
       "   userid  version  sum_gamerounds  retention_1  retention_7\n",
       "0     116  gate_30               3        False        False\n",
       "1     337  gate_30              38         True        False\n",
       "2     377  gate_40             165         True        False\n",
       "3     483  gate_40               1        False        False\n",
       "4     488  gate_40             179         True         True"
      ]
     },
     "execution_count": 74,
     "metadata": {},
     "output_type": "execute_result"
    }
   ],
   "source": [
    "# Load Cookie Cats dataset\n",
    "df = pd.read_csv('cookie_cats.csv')\n",
    "print(f\"Data shape: {df.shape}\")\n",
    "df.head()\n"
   ]
  },
  {
   "cell_type": "code",
   "execution_count": 75,
   "id": "c10ffb89",
   "metadata": {},
   "outputs": [
    {
     "name": "stdout",
     "output_type": "stream",
     "text": [
      "             userid  sum_gamerounds\n",
      "count  9.018900e+04    90189.000000\n",
      "mean   4.998412e+06       51.872457\n",
      "std    2.883286e+06      195.050858\n",
      "min    1.160000e+02        0.000000\n",
      "25%    2.512230e+06        5.000000\n",
      "50%    4.995815e+06       16.000000\n",
      "75%    7.496452e+06       51.000000\n",
      "max    9.999861e+06    49854.000000\n",
      "<class 'pandas.core.frame.DataFrame'>\n",
      "RangeIndex: 90189 entries, 0 to 90188\n",
      "Data columns (total 5 columns):\n",
      " #   Column          Non-Null Count  Dtype \n",
      "---  ------          --------------  ----- \n",
      " 0   userid          90189 non-null  int64 \n",
      " 1   version         90189 non-null  object\n",
      " 2   sum_gamerounds  90189 non-null  int64 \n",
      " 3   retention_1     90189 non-null  bool  \n",
      " 4   retention_7     90189 non-null  bool  \n",
      "dtypes: bool(2), int64(2), object(1)\n",
      "memory usage: 2.2+ MB\n",
      "None\n",
      "userid            0\n",
      "version           0\n",
      "sum_gamerounds    0\n",
      "retention_1       0\n",
      "retention_7       0\n",
      "dtype: int64\n"
     ]
    }
   ],
   "source": [
    "# Summary statistics and null values\n",
    "print(df.describe())\n",
    "print(df.info())\n",
    "print(df.isnull().sum())\n"
   ]
  },
  {
   "cell_type": "code",
   "execution_count": 76,
   "id": "fe8cdbed",
   "metadata": {},
   "outputs": [
    {
     "data": {
      "text/html": [
       "<div>\n",
       "<style scoped>\n",
       "    .dataframe tbody tr th:only-of-type {\n",
       "        vertical-align: middle;\n",
       "    }\n",
       "\n",
       "    .dataframe tbody tr th {\n",
       "        vertical-align: top;\n",
       "    }\n",
       "\n",
       "    .dataframe thead th {\n",
       "        text-align: right;\n",
       "    }\n",
       "</style>\n",
       "<table border=\"1\" class=\"dataframe\">\n",
       "  <thead>\n",
       "    <tr style=\"text-align: right;\">\n",
       "      <th></th>\n",
       "      <th>retention_1</th>\n",
       "      <th>retention_7</th>\n",
       "    </tr>\n",
       "    <tr>\n",
       "      <th>version</th>\n",
       "      <th></th>\n",
       "      <th></th>\n",
       "    </tr>\n",
       "  </thead>\n",
       "  <tbody>\n",
       "    <tr>\n",
       "      <th>gate_30</th>\n",
       "      <td>0.448188</td>\n",
       "      <td>0.190201</td>\n",
       "    </tr>\n",
       "    <tr>\n",
       "      <th>gate_40</th>\n",
       "      <td>0.442283</td>\n",
       "      <td>0.182000</td>\n",
       "    </tr>\n",
       "  </tbody>\n",
       "</table>\n",
       "</div>"
      ],
      "text/plain": [
       "         retention_1  retention_7\n",
       "version                          \n",
       "gate_30     0.448188     0.190201\n",
       "gate_40     0.442283     0.182000"
      ]
     },
     "execution_count": 76,
     "metadata": {},
     "output_type": "execute_result"
    }
   ],
   "source": [
    "# Retention rates by version\n",
    "df.groupby('version')[['retention_1', 'retention_7']].mean()\n"
   ]
  },
  {
   "cell_type": "code",
   "execution_count": 77,
   "id": "86ce0a27",
   "metadata": {},
   "outputs": [
    {
     "name": "stdout",
     "output_type": "stream",
     "text": [
      "         retention_1  retention_7\n",
      "version                          \n",
      "gate_30     0.448188     0.190201\n",
      "gate_40     0.442283     0.182000\n"
     ]
    },
    {
     "data": {
      "image/png": "[encoded data removed]",
      "text/plain": [
       "<Figure size 640x480 with 1 Axes>"
      ]
     },
     "metadata": {},
     "output_type": "display_data"
    },
    {
     "data": {
      "image/png": "[encoded data removed]",
      "text/plain": [
       "<Figure size 640x480 with 1 Axes>"
      ]
     },
     "metadata": {},
     "output_type": "display_data"
    }
   ],
   "source": [
    "# Retention rates by version\n",
    "retention_summary = df.groupby('version')[['retention_1', 'retention_7']].mean()\n",
    "print(retention_summary)\n",
    "\n",
    "sns.barplot(data=df, x='version', y='retention_1')\n",
    "plt.title('1-Day Retention by Version')\n",
    "plt.show()\n",
    "\n",
    "sns.barplot(data=df, x='version', y='retention_7')\n",
    "plt.title('7-Day Retention by Version')\n",
    "plt.show()"
   ]
  },
  {
   "cell_type": "code",
   "execution_count": 78,
   "id": "a2bfbd25",
   "metadata": {},
   "outputs": [
    {
     "name": "stdout",
     "output_type": "stream",
     "text": [
      "Chi-squared Test for 1-Day Retention\n",
      "p-value: 0.07550\n",
      "Chi-squared Test for 7-Day Retention\n",
      "p-value: 0.00160\n"
     ]
    }
   ],
   "source": [
    "## Statistical Significance Test (A/B Test)\n",
    "\n",
    "# Create a contingency table for 1-day retention\n",
    "contingency_1 = pd.crosstab(df['version'], df['retention_1'])\n",
    "\n",
    "# Perform chi-squared test\n",
    "chi2_1, p_1, dof_1, expected_1 = chi2_contingency(contingency_1)\n",
    "\n",
    "print(\"Chi-squared Test for 1-Day Retention\")\n",
    "print(f\"p-value: {p_1:.5f}\")\n",
    "\n",
    "# Create a contingency table for 7-day retention\n",
    "contingency_7 = pd.crosstab(df['version'], df['retention_7'])\n",
    "\n",
    "# Perform chi-squared test\n",
    "chi2_7, p_7, dof_7, expected_7 = chi2_contingency(contingency_7)\n",
    "\n",
    "print(\"Chi-squared Test for 7-Day Retention\")\n",
    "print(f\"p-value: {p_7:.5f}\")\n"
   ]
  },
  {
   "cell_type": "code",
   "execution_count": 79,
   "id": "2d38cf6f",
   "metadata": {},
   "outputs": [],
   "source": [
    "# Bin the sum_gamerounds variable into categories\n",
    "df['gameround_group'] = pd.cut(df['sum_gamerounds'], bins=[0, 20, 100, 1000], labels=['low','mid','high'])\n",
    "\n",
    "# One-hot encode categorical variables\n",
    "df = pd.get_dummies(df, columns=['version', 'gameround_group'], drop_first=True)\n"
   ]
  },
  {
   "cell_type": "code",
   "execution_count": null,
   "id": "e45f0fc2",
   "metadata": {},
   "outputs": [
    {
     "data": {
      "text/html": [
       "<div>\n",
       "<style scoped>\n",
       "    .dataframe tbody tr th:only-of-type {\n",
       "        vertical-align: middle;\n",
       "    }\n",
       "\n",
       "    .dataframe tbody tr th {\n",
       "        vertical-align: top;\n",
       "    }\n",
       "\n",
       "    .dataframe thead th {\n",
       "        text-align: right;\n",
       "    }\n",
       "</style>\n",
       "<table border=\"1\" class=\"dataframe\">\n",
       "  <thead>\n",
       "    <tr style=\"text-align: right;\">\n",
       "      <th></th>\n",
       "      <th>Accuracy</th>\n",
       "      <th>ROC AUC</th>\n",
       "    </tr>\n",
       "  </thead>\n",
       "  <tbody>\n",
       "    <tr>\n",
       "      <th>Gradient Boosting</th>\n",
       "      <td>0.784732</td>\n",
       "      <td>0.862271</td>\n",
       "    </tr>\n",
       "    <tr>\n",
       "      <th>Logistic Regression</th>\n",
       "      <td>0.784732</td>\n",
       "      <td>0.861877</td>\n",
       "    </tr>\n",
       "    <tr>\n",
       "      <th>XGBoost</th>\n",
       "      <td>0.784178</td>\n",
       "      <td>0.861613</td>\n",
       "    </tr>\n",
       "    <tr>\n",
       "      <th>Random Forest</th>\n",
       "      <td>0.783568</td>\n",
       "      <td>0.860797</td>\n",
       "    </tr>\n",
       "  </tbody>\n",
       "</table>\n",
       "</div>"
      ],
      "text/plain": [
       "                     Accuracy   ROC AUC\n",
       "Gradient Boosting    0.784732  0.862271\n",
       "Logistic Regression  0.784732  0.861877\n",
       "XGBoost              0.784178  0.861613\n",
       "Random Forest        0.783568  0.860797"
      ]
     },
     "execution_count": 80,
     "metadata": {},
     "output_type": "execute_result"
    }
   ],
   "source": [
    "## Model Comparison: Predict 1-Day Retention\n",
    "\n",
    "X1 = df.drop(columns=['userid','retention_1','retention_7'])\n",
    "y1 = df['retention_1']\n",
    "X1_train, X1_test, y1_train, y1_test = train_test_split(X1, y1, test_size=0.2, stratify=y1, random_state=42)\n",
    "\n",
    "models_1d = {\n",
    "    \"Logistic Regression\": LogisticRegression(max_iter=1000),\n",
    "    \"Random Forest\": RandomForestClassifier(n_estimators=100, random_state=42),\n",
    "    \"Gradient Boosting\": GradientBoostingClassifier(random_state=42),\n",
    "    \"XGBoost\": XGBClassifier(use_label_encoder=False, eval_metric='logloss', random_state=42)\n",
    "}\n",
    "\n",
    "results_1d = {}\n",
    "for name, model in models_1d.items():\n",
    "    model.fit(X1_train, y1_train)\n",
    "    preds = model.predict(X1_test)\n",
    "    probs = model.predict_proba(X1_test)[:, 1]\n",
    "    results_1d[name] = {\n",
    "        \"Accuracy\": accuracy_score(y1_test, preds),\n",
    "        \"ROC AUC\": roc_auc_score(y1_test, probs)\n",
    "    }\n",
    "\n",
    "pd.DataFrame(results_1d).T.sort_values(\"ROC AUC\", ascending=False)\n"
   ]
  },
  {
   "cell_type": "code",
   "execution_count": 90,
   "id": "e7c0f025",
   "metadata": {},
   "outputs": [
    {
     "data": {
      "text/html": [
       "<div>\n",
       "<style scoped>\n",
       "    .dataframe tbody tr th:only-of-type {\n",
       "        vertical-align: middle;\n",
       "    }\n",
       "\n",
       "    .dataframe tbody tr th {\n",
       "        vertical-align: top;\n",
       "    }\n",
       "\n",
       "    .dataframe thead th {\n",
       "        text-align: right;\n",
       "    }\n",
       "</style>\n",
       "<table border=\"1\" class=\"dataframe\">\n",
       "  <thead>\n",
       "    <tr style=\"text-align: right;\">\n",
       "      <th></th>\n",
       "      <th>Accuracy</th>\n",
       "      <th>ROC AUC</th>\n",
       "    </tr>\n",
       "  </thead>\n",
       "  <tbody>\n",
       "    <tr>\n",
       "      <th>Gradient Boosting</th>\n",
       "      <td>0.870995</td>\n",
       "      <td>0.887211</td>\n",
       "    </tr>\n",
       "    <tr>\n",
       "      <th>Logistic Regression</th>\n",
       "      <td>0.870662</td>\n",
       "      <td>0.886478</td>\n",
       "    </tr>\n",
       "    <tr>\n",
       "      <th>XGBoost</th>\n",
       "      <td>0.870052</td>\n",
       "      <td>0.885529</td>\n",
       "    </tr>\n",
       "    <tr>\n",
       "      <th>Random Forest</th>\n",
       "      <td>0.866781</td>\n",
       "      <td>0.883779</td>\n",
       "    </tr>\n",
       "  </tbody>\n",
       "</table>\n",
       "</div>"
      ],
      "text/plain": [
       "                     Accuracy   ROC AUC\n",
       "Gradient Boosting    0.870995  0.887211\n",
       "Logistic Regression  0.870662  0.886478\n",
       "XGBoost              0.870052  0.885529\n",
       "Random Forest        0.866781  0.883779"
      ]
     },
     "execution_count": 90,
     "metadata": {},
     "output_type": "execute_result"
    }
   ],
   "source": [
    "## Model Comparison: Predict 7-Day Retention\n",
    "\n",
    "X7 = df.drop(columns=['userid','retention_1','retention_7'])\n",
    "y7 = df['retention_7']\n",
    "X7_train, X7_test, y7_train, y7_test = train_test_split(X7, y7, test_size=0.2, stratify=y7, random_state=42)\n",
    "\n",
    "models_7d = {\n",
    "    \"Logistic Regression\": LogisticRegression(max_iter=1000),\n",
    "    \"Random Forest\": RandomForestClassifier(n_estimators=100, random_state=42),\n",
    "    \"Gradient Boosting\": GradientBoostingClassifier(random_state=42),\n",
    "    \"XGBoost\": XGBClassifier(use_label_encoder=False, eval_metric='logloss', random_state=42)\n",
    "}\n",
    "\n",
    "results_7d = {}\n",
    "for name, model in models_7d.items():\n",
    "    model.fit(X7_train, y7_train)\n",
    "    preds = model.predict(X7_test)\n",
    "    probs = model.predict_proba(X7_test)[:, 1]\n",
    "    results_7d[name] = {\n",
    "        \"Accuracy\": accuracy_score(y7_test, preds),\n",
    "        \"ROC AUC\": roc_auc_score(y7_test, probs)\n",
    "    }\n",
    "\n",
    "pd.DataFrame(results_7d).T.sort_values(\"ROC AUC\", ascending=False)"
   ]
  },
  {
   "cell_type": "code",
   "execution_count": 91,
   "id": "06ebe336",
   "metadata": {},
   "outputs": [
    {
     "data": {
      "image/png": "[encoded data removed]",
      "text/plain": [
       "<Figure size 1150x660 with 2 Axes>"
      ]
     },
     "metadata": {},
     "output_type": "display_data"
    }
   ],
   "source": [
    "## Interpretability with SHAP (7-Day Model)\n",
    "\n",
    "explainer = shap.TreeExplainer(models_7d[\"Random Forest\"])\n",
    "shap_values = explainer.shap_values(X7_test[:100])\n",
    "\n",
    "if isinstance(shap_values, list):\n",
    "    shap.summary_plot(shap_values[1], X7_test[:100], feature_names=X7.columns)\n",
    "else:\n",
    "    shap.summary_plot(shap_values, X7_test[:100], feature_names=X7.columns)"
   ]
  },
  {
   "cell_type": "markdown",
   "id": "90f756ab",
   "metadata": {},
   "source": [
    "## Business Recommendations\n",
    "\n",
    "- The A/B test shows statistically significant improvement in retention for `gate_40` on Day 1 and Day 7.\n",
    "- High `sum_gamerounds` and `gameround_group_high` are strong predictors of retention.\n",
    "- **Gradient Boosting** yields the highest ROC AUC score and should be preferred for 7-day retention prediction.\n",
    "- Target high engagement users (gameround > 100) with personalized offers to reinforce loyalty.\n",
    "- Consider product-level adjustments to encourage mid-level users to increase their engagement.\n",
    "- Leverage SHAP insights to identify which user segments are most likely to churn or retain, and tailor onboarding/marketing strategies accordingly.\n"
   ]
  }
 ],
 "metadata": {
  "kernelspec": {
   "display_name": "Python 3",
   "language": "python",
   "name": "python3"
  },
  "language_info": {
   "codemirror_mode": {
    "name": "ipython",
    "version": 3
   },
   "file_extension": ".py",
   "mimetype": "text/x-python",
   "name": "python",
   "nbconvert_exporter": "python",
   "pygments_lexer": "ipython3",
   "version": "3.13.5"
  }
 },
 "nbformat": 4,
 "nbformat_minor": 5
}
